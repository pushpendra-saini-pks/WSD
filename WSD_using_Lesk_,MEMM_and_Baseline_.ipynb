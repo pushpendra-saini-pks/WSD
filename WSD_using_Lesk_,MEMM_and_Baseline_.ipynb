{
  "nbformat": 4,
  "nbformat_minor": 0,
  "metadata": {
    "colab": {
      "provenance": [],
      "authorship_tag": "ABX9TyPS1Ir4Tsy9XmyFkx1BYjKf",
      "include_colab_link": true
    },
    "kernelspec": {
      "name": "python3",
      "display_name": "Python 3"
    },
    "language_info": {
      "name": "python"
    }
  },
  "cells": [
    {
      "cell_type": "markdown",
      "metadata": {
        "id": "view-in-github",
        "colab_type": "text"
      },
      "source": [
        "<a href=\"https://colab.research.google.com/github/pushpendra-saini-pks/WSD/blob/main/WSD_using_Lesk_%2CMEMM_and_Baseline_.ipynb\" target=\"_parent\"><img src=\"https://colab.research.google.com/assets/colab-badge.svg\" alt=\"Open In Colab\"/></a>"
      ]
    },
    {
      "cell_type": "code",
      "source": [
        "!pip install nltk senseval scikit-learn numpy"
      ],
      "metadata": {
        "colab": {
          "base_uri": "https://localhost:8080/"
        },
        "id": "2R83kuL0lQmX",
        "outputId": "7a8dcc6a-6319-4091-be09-0cae2cce4ceb"
      },
      "execution_count": 24,
      "outputs": [
        {
          "output_type": "stream",
          "name": "stdout",
          "text": [
            "Requirement already satisfied: nltk in /usr/local/lib/python3.10/dist-packages (3.8.1)\n",
            "\u001b[31mERROR: Could not find a version that satisfies the requirement senseval (from versions: none)\u001b[0m\u001b[31m\n",
            "\u001b[0m\u001b[31mERROR: No matching distribution found for senseval\u001b[0m\u001b[31m\n",
            "\u001b[0m"
          ]
        }
      ]
    },
    {
      "cell_type": "code",
      "execution_count": 25,
      "metadata": {
        "id": "M_-tokaLjh7k"
      },
      "outputs": [],
      "source": [
        "import nltk\n",
        "from nltk.corpus import wordnet as wn\n",
        "from nltk.corpus import senseval\n",
        "from nltk.tag import pos_tag\n",
        "from nltk.tokenize import word_tokenize\n",
        "from sklearn.feature_extraction import DictVectorizer\n",
        "from sklearn.linear_model import LogisticRegression\n",
        "from sklearn.metrics import accuracy_score, precision_recall_fscore_support\n",
        "from sklearn.model_selection import train_test_split\n",
        "import numpy as np\n",
        "from collections import defaultdict, Counter\n"
      ]
    },
    {
      "cell_type": "code",
      "source": [
        "nltk.download('senseval')\n",
        "nltk.download('wordnet')\n",
        "nltk.download('punkt')\n",
        "nltk.download('averaged_perceptron_tagger')"
      ],
      "metadata": {
        "colab": {
          "base_uri": "https://localhost:8080/"
        },
        "id": "rsizfx1NmIYc",
        "outputId": "df528396-4d4d-4347-92fd-a418b8e3acff"
      },
      "execution_count": 26,
      "outputs": [
        {
          "output_type": "stream",
          "name": "stderr",
          "text": [
            "[nltk_data] Downloading package senseval to /root/nltk_data...\n",
            "[nltk_data]   Package senseval is already up-to-date!\n",
            "[nltk_data] Downloading package wordnet to /root/nltk_data...\n",
            "[nltk_data]   Package wordnet is already up-to-date!\n",
            "[nltk_data] Downloading package punkt to /root/nltk_data...\n",
            "[nltk_data]   Package punkt is already up-to-date!\n",
            "[nltk_data] Downloading package averaged_perceptron_tagger to\n",
            "[nltk_data]     /root/nltk_data...\n",
            "[nltk_data]   Package averaged_perceptron_tagger is already up-to-\n",
            "[nltk_data]       date!\n"
          ]
        },
        {
          "output_type": "execute_result",
          "data": {
            "text/plain": [
              "True"
            ]
          },
          "metadata": {},
          "execution_count": 26
        }
      ]
    },
    {
      "cell_type": "markdown",
      "source": [
        "## Defining MEMM"
      ],
      "metadata": {
        "id": "_VWa__Ccu1lK"
      }
    },
    {
      "cell_type": "code",
      "source": [
        "class MEMMWordSenseDisambiguator:\n",
        "    def __init__(self):\n",
        "        self.vectorizer = DictVectorizer(sparse=True)\n",
        "        self.model = LogisticRegression(multi_class='multinomial', max_iter=1000)\n",
        "        self.sense_mapping = {}\n",
        "        self.reverse_sense_mapping = {}\n",
        "\n",
        "    def extract_features(self, sentence, target_index):\n",
        "        \"\"\"Extract features for a target word in a sentence.\"\"\"\n",
        "        features = {}\n",
        "\n",
        "        # The word itself\n",
        "        target_word = sentence[target_index][0].lower()  # Access the word from the tuple\n",
        "        features['word'] = target_word\n",
        "\n",
        "        # Context window (2 words before and after)\n",
        "        for i in range(-2, 3):\n",
        "            if i != 0:  # Skip the target word\n",
        "                idx = target_index + i\n",
        "                if 0 <= idx < len(sentence):\n",
        "                    features[f'context_{i}'] = sentence[idx][0].lower()  # Access the word from the tuple\n",
        "\n",
        "        # POS tags (already available in the tuples)\n",
        "        features['pos'] = sentence[target_index][1]\n",
        "\n",
        "        # Surrounding POS tags\n",
        "        for i in range(-2, 3):\n",
        "            if i != 0:\n",
        "                idx = target_index + i\n",
        "                if 0 <= idx < len(sentence):\n",
        "                    features[f'pos_{i}'] = sentence[idx][1]\n",
        "\n",
        "        # WordNet features\n",
        "        synsets = wn.synsets(target_word)\n",
        "        if synsets:\n",
        "            features['first_sense_pos'] = synsets[0].pos()\n",
        "            features['num_senses'] = len(synsets)\n",
        "\n",
        "        return features\n",
        "\n",
        "    def prepare_senseval_data(self):\n",
        "        \"\"\"Prepare Senseval-2 data for training.\"\"\"\n",
        "        instances = senseval.instances('interest.pos')\n",
        "        data = []\n",
        "        labels = []\n",
        "\n",
        "        for instance in instances:\n",
        "            # instance.context already contains tuples of (word, pos_tag)\n",
        "            sentence = instance.context\n",
        "            target_index = instance.position\n",
        "            features = self.extract_features(sentence, target_index)\n",
        "            sense = instance.senses[0]  # Take first sense if multiple\n",
        "\n",
        "            data.append(features)\n",
        "            labels.append(sense)\n",
        "\n",
        "        # Create sense mappings\n",
        "        unique_senses = sorted(set(labels))\n",
        "        self.sense_mapping = {sense: idx for idx, sense in enumerate(unique_senses)}\n",
        "        self.reverse_sense_mapping = {idx: sense for sense, idx in self.sense_mapping.items()}\n",
        "\n",
        "        # Convert string labels to numeric\n",
        "        numeric_labels = [self.sense_mapping[label] for label in labels]\n",
        "\n",
        "\n",
        "        return data, numeric_labels\n",
        "\n",
        "    def fit(self, X_dict, y):\n",
        "        \"\"\"Train the MEMM model.\"\"\"\n",
        "        X = self.vectorizer.fit_transform(X_dict)\n",
        "        self.model.fit(X, y)\n",
        "\n",
        "    def predict(self, X_dict):\n",
        "        \"\"\"Make predictions using the trained model.\"\"\"\n",
        "        X = self.vectorizer.transform(X_dict)\n",
        "        return self.model.predict(X)\n",
        "\n",
        "    def get_sense_label(self, numeric_label):\n",
        "        \"\"\"Convert numeric label back to sense string.\"\"\"\n",
        "        return self.reverse_sense_mapping[numeric_label]"
      ],
      "metadata": {
        "id": "Bdugs8EolcDC"
      },
      "execution_count": 27,
      "outputs": []
    },
    {
      "cell_type": "markdown",
      "source": [
        "## Defining Lesk"
      ],
      "metadata": {
        "id": "q1ZHBehGu71G"
      }
    },
    {
      "cell_type": "code",
      "source": [
        "class LeskDisambiguator:\n",
        "    def __init__(self):\n",
        "        pass\n",
        "\n",
        "    def lesk_algorithm(self, sentence, target_word, target_index):\n",
        "        \"\"\"Simplified Lesk algorithm implementation.\"\"\"\n",
        "        context = set(word[0].lower() for word in sentence)  # Access words from tuples\n",
        "        target_word = target_word[0].lower()  # Access word from tuple\n",
        "\n",
        "        best_sense = None\n",
        "        max_overlap = 0\n",
        "\n",
        "        for synset in wn.synsets(target_word):\n",
        "            # Create signature from definition and examples\n",
        "            signature = set(word.lower() for word in word_tokenize(synset.definition()))\n",
        "            for example in synset.examples():\n",
        "                signature.update(word.lower() for word in word_tokenize(example))\n",
        "\n",
        "            overlap = len(context.intersection(signature))\n",
        "\n",
        "            if overlap > max_overlap:\n",
        "                max_overlap = overlap\n",
        "                best_sense = synset\n",
        "\n",
        "        return best_sense.name() if best_sense else None\n"
      ],
      "metadata": {
        "id": "fgpiiajYlnW9"
      },
      "execution_count": 28,
      "outputs": []
    },
    {
      "cell_type": "markdown",
      "source": [
        "## Defining Baseline"
      ],
      "metadata": {
        "id": "rrfGzOH4vBUA"
      }
    },
    {
      "cell_type": "code",
      "source": [
        "class BaselineDisambiguator:\n",
        "    def __init__(self):\n",
        "        self.most_frequent_senses = {}\n",
        "\n",
        "    def fit(self, data, labels):\n",
        "        \"\"\"Store most frequent sense for each word.\"\"\"\n",
        "        word_sense_counts = defaultdict(Counter)\n",
        "        for features, label in zip(data, labels):\n",
        "            word = features['word']\n",
        "            word_sense_counts[word][label] += 1\n",
        "\n",
        "        self.most_frequent_senses = {\n",
        "            word: counts.most_common(1)[0][0]\n",
        "            for word, counts in word_sense_counts.items()\n",
        "        }\n",
        "\n",
        "    def predict(self, data):\n",
        "        \"\"\"Predict most frequent sense for each word.\"\"\"\n",
        "        predictions = []\n",
        "        for features in data:\n",
        "            word = features['word']\n",
        "            predictions.append(\n",
        "                self.most_frequent_senses.get(word, max(self.most_frequent_senses.values(), key=list(self.most_frequent_senses.values()).count))\n",
        "            )\n",
        "        return predictions"
      ],
      "metadata": {
        "id": "5Cm9FeHtlvqD"
      },
      "execution_count": 29,
      "outputs": []
    },
    {
      "cell_type": "markdown",
      "source": [
        "## Evaluating the model performance"
      ],
      "metadata": {
        "id": "HaLepa6dvGqW"
      }
    },
    {
      "cell_type": "code",
      "source": [
        "def evaluate_model(y_true, y_pred, model_name):\n",
        "    \"\"\"Calculate and print evaluation metrics.\"\"\"\n",
        "    accuracy = accuracy_score(y_true, y_pred)\n",
        "    precision, recall, f1, _ = precision_recall_fscore_support(y_true, y_pred, average='weighted')\n",
        "\n",
        "    print(f\"\\n{model_name} Performance:\")\n",
        "    print(f\"Accuracy: {accuracy:.3f}\")\n",
        "    print(f\"Precision: {precision:.3f}\")\n",
        "    print(f\"Recall: {recall:.3f}\")\n",
        "    print(f\"F1-Score: {f1:.3f}\")\n",
        "\n",
        "    return accuracy, precision, recall, f1"
      ],
      "metadata": {
        "id": "w5TGfQmll2rO"
      },
      "execution_count": 30,
      "outputs": []
    },
    {
      "cell_type": "code",
      "source": [
        "def main():\n",
        "    # Initialize models\n",
        "    memm = MEMMWordSenseDisambiguator()\n",
        "\n",
        "    # Prepare data\n",
        "    print(\"Preparing data...\")\n",
        "    features, labels = memm.prepare_senseval_data()\n",
        "\n",
        "    # Split data\n",
        "    X_train, X_test, y_train, y_test = train_test_split(\n",
        "        features, labels, test_size=0.2, random_state=42\n",
        "    )\n",
        "\n",
        "    # Train and evaluate MEMM\n",
        "    print(\"\\nTraining MEMM model...\")\n",
        "    memm.fit(X_train, y_train)\n",
        "    memm_predictions = memm.predict(X_test)\n",
        "    memm_metrics = evaluate_model(y_test, memm_predictions, \"MEMM\")\n",
        "\n",
        "    # Train and evaluate Baseline\n",
        "    print(\"\\nTraining Baseline model...\")\n",
        "    baseline = BaselineDisambiguator()\n",
        "    baseline.fit(X_train, y_train)\n",
        "    baseline_predictions = baseline.predict(X_test)\n",
        "    baseline_metrics = evaluate_model(y_test, baseline_predictions, \"Baseline (Most Frequent Sense)\")\n",
        "\n",
        "    # Compare results\n",
        "    print(\"\\nModel Comparison:\")\n",
        "    models = [\"MEMM\", \"Baseline\"]\n",
        "    metrics = [memm_metrics, baseline_metrics]\n",
        "\n",
        "    for model, (acc, prec, rec, f1) in zip(models, metrics):\n",
        "        print(f\"\\n{model}:\")\n",
        "        print(f\"Accuracy: {acc:.3f}\")\n",
        "        print(f\"F1-Score: {f1:.3f}\")\n",
        "\n",
        "if __name__ == \"__main__\":\n",
        "    main()\n"
      ],
      "metadata": {
        "colab": {
          "base_uri": "https://localhost:8080/"
        },
        "id": "QTDdxJqWl7ar",
        "outputId": "4e81579f-0ba8-4ce4-bee1-4f9aaddd4eed"
      },
      "execution_count": 31,
      "outputs": [
        {
          "output_type": "stream",
          "name": "stdout",
          "text": [
            "Preparing data...\n",
            "\n",
            "Training MEMM model...\n"
          ]
        },
        {
          "output_type": "stream",
          "name": "stderr",
          "text": [
            "/usr/local/lib/python3.10/dist-packages/sklearn/linear_model/_logistic.py:1247: FutureWarning: 'multi_class' was deprecated in version 1.5 and will be removed in 1.7. From then on, it will always use 'multinomial'. Leave it to its default value to avoid this warning.\n",
            "  warnings.warn(\n"
          ]
        },
        {
          "output_type": "stream",
          "name": "stdout",
          "text": [
            "\n",
            "MEMM Performance:\n",
            "Accuracy: 0.914\n",
            "Precision: 0.907\n",
            "Recall: 0.914\n",
            "F1-Score: 0.909\n",
            "\n",
            "Training Baseline model...\n",
            "\n",
            "Baseline (Most Frequent Sense) Performance:\n",
            "Accuracy: 0.633\n",
            "Precision: 0.481\n",
            "Recall: 0.633\n",
            "F1-Score: 0.529\n",
            "\n",
            "Model Comparison:\n",
            "\n",
            "MEMM:\n",
            "Accuracy: 0.914\n",
            "F1-Score: 0.909\n",
            "\n",
            "Baseline:\n",
            "Accuracy: 0.633\n",
            "F1-Score: 0.529\n"
          ]
        },
        {
          "output_type": "stream",
          "name": "stderr",
          "text": [
            "/usr/local/lib/python3.10/dist-packages/sklearn/metrics/_classification.py:1531: UndefinedMetricWarning: Precision is ill-defined and being set to 0.0 in labels with no predicted samples. Use `zero_division` parameter to control this behavior.\n",
            "  _warn_prf(average, modifier, f\"{metric.capitalize()} is\", len(result))\n",
            "/usr/local/lib/python3.10/dist-packages/sklearn/metrics/_classification.py:1531: UndefinedMetricWarning: Precision is ill-defined and being set to 0.0 in labels with no predicted samples. Use `zero_division` parameter to control this behavior.\n",
            "  _warn_prf(average, modifier, f\"{metric.capitalize()} is\", len(result))\n"
          ]
        }
      ]
    },
    {
      "cell_type": "markdown",
      "source": [
        "## Visualize the model performance"
      ],
      "metadata": {
        "id": "oXW1fvTivOUe"
      }
    },
    {
      "cell_type": "code",
      "source": [
        "import matplotlib.pyplot as plt\n",
        "import numpy as np\n",
        "\n",
        "def plot_wsd_performance():\n",
        "    # Performance metrics data\n",
        "    metrics = ['Accuracy', 'Precision', 'Recall', 'F1-Score']\n",
        "    memm_scores = [0.914, 0.907, 0.914, 0.909]  # Updated MEMM scores\n",
        "    baseline_scores = [0.633, 0.481, 0.633, 0.529]  # Updated Baseline scores\n",
        "\n",
        "    # Set up the bar chart\n",
        "    x = np.arange(len(metrics))\n",
        "    width = 0.35\n",
        "\n",
        "    fig, ax = plt.subplots(figsize=(10, 6))\n",
        "    rects1 = ax.bar(x - width/2, memm_scores, width, label='MEMM', color='#3b82f6')\n",
        "    rects2 = ax.bar(x + width/2, baseline_scores, width, label='Baseline', color='#6b7280')\n",
        "\n",
        "    # Customize the plot\n",
        "    ax.set_ylabel('Score')\n",
        "    ax.set_title('Word Sense Disambiguation Model Performance Comparison')\n",
        "    ax.set_xticks(x)\n",
        "    ax.set_xticklabels(metrics)\n",
        "    ax.legend()\n",
        "\n",
        "    # Set y-axis to start from 0 and end at 1\n",
        "    ax.set_ylim(0, 1)\n",
        "\n",
        "    # Add grid lines\n",
        "    ax.yaxis.grid(True, linestyle='--', alpha=0.7)\n",
        "    ax.set_axisbelow(True)\n",
        "\n",
        "    # Add value labels on top of each bar\n",
        "    def autolabel(rects):\n",
        "        for rect in rects:\n",
        "            height = rect.get_height()\n",
        "            ax.annotate(f'{height:.3f}',\n",
        "                       xy=(rect.get_x() + rect.get_width() / 2, height),\n",
        "                       xytext=(0, 3),  # 3 points vertical offset\n",
        "                       textcoords=\"offset points\",\n",
        "                       ha='center', va='bottom')\n",
        "\n",
        "    autolabel(rects1)\n",
        "    autolabel(rects2)\n",
        "\n",
        "    # Adjust layout to prevent label cutoff\n",
        "    plt.tight_layout()\n",
        "\n",
        "    # Save the plot\n",
        "    plt.savefig('wsd_performance.png', dpi=300, bbox_inches='tight')\n",
        "\n",
        "    # Display the plot\n",
        "    plt.show()\n",
        "\n",
        "# Create and save the visualization\n",
        "plot_wsd_performance()\n",
        "\n"
      ],
      "metadata": {
        "colab": {
          "base_uri": "https://localhost:8080/",
          "height": 607
        },
        "id": "Y5ENpbXLm38R",
        "outputId": "682b782d-ac94-4abc-f728-5df3a0184451"
      },
      "execution_count": 32,
      "outputs": [
        {
          "output_type": "display_data",
          "data": {
            "text/plain": [
              "<Figure size 1000x600 with 1 Axes>"
            ],
            "image/png": "[encoded data removed]"
          },
          "metadata": {}
        }
      ]
    }
  ]
}